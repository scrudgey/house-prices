{
 "cells": [
  {
   "cell_type": "markdown",
   "metadata": {},
   "source": [
    "# Real estate price regression with XGBoost\n",
    "\n",
    "A more detailed analysis following the preliminaries. Let's increase the accuracy of our model by including more information:\n",
    "\n",
    "1. use one-hot encoding on zipcode\n",
    "2. use PCA to reduce the dimensionality of zipcode categories\n",
    "3. include year and date information"
   ]
  },
  {
   "cell_type": "code",
   "execution_count": 18,
   "metadata": {
    "collapsed": true
   },
   "outputs": [],
   "source": [
    "import time\n",
    "import datetime\n",
    "\n",
    "import numpy as np\n",
    "import pandas as pd\n",
    "import matplotlib.pyplot as plt\n",
    "import scipy.stats\n",
    "\n",
    "from sklearn import preprocessing\n",
    "from sklearn import model_selection\n",
    "from sklearn.metrics import explained_variance_score\n",
    "from sklearn.decomposition import PCA\n",
    "\n",
    "import xgboost"
   ]
  },
  {
   "cell_type": "code",
   "execution_count": 19,
   "metadata": {
    "collapsed": false
   },
   "outputs": [],
   "source": [
    "# load the csv file into a pandas dataframe\n",
    "dat = pd.read_csv('kc_house_data.csv')"
   ]
  },
  {
   "cell_type": "markdown",
   "metadata": {},
   "source": [
    "as is, the zipcode column is not usable. however, there are only 70 unique zipcodes, so the goal here is to tranform those data into categorical data."
   ]
  },
  {
   "cell_type": "code",
   "execution_count": 20,
   "metadata": {
    "collapsed": false
   },
   "outputs": [
    {
     "name": "stdout",
     "output_type": "stream",
     "text": [
      "[98178 98125 98028 98136 98074 98053 98003 98198 98146 98038 98007 98115\n",
      " 98107 98126 98019 98103 98002 98133 98040 98092 98030 98119 98112 98052\n",
      " 98027 98117 98058 98001 98056 98166 98023 98070 98148 98105 98042 98008\n",
      " 98059 98122 98144 98004 98005 98034 98075 98116 98010 98118 98199 98032\n",
      " 98045 98102 98077 98108 98168 98177 98065 98029 98006 98109 98022 98033\n",
      " 98155 98024 98011 98031 98106 98072 98188 98014 98055 98039]\n",
      "rows: 21613\n",
      "unique zipcodes: 70\n"
     ]
    }
   ],
   "source": [
    "print(dat.zipcode.unique())\n",
    "print('rows: {}'.format(len(dat)))\n",
    "print('unique zipcodes: {}'.format(len(dat.zipcode.unique())))"
   ]
  },
  {
   "cell_type": "markdown",
   "metadata": {},
   "source": [
    "## Transform zipcode with one-hot encoding"
   ]
  },
  {
   "cell_type": "code",
   "execution_count": 21,
   "metadata": {
    "collapsed": false,
    "scrolled": true
   },
   "outputs": [
    {
     "data": {
      "text/plain": [
       "True"
      ]
     },
     "execution_count": 21,
     "metadata": {},
     "output_type": "execute_result"
    }
   ],
   "source": [
    "# relabel zipcodes by integers [0, 70]\n",
    "label_encoder = preprocessing.LabelEncoder()\n",
    "zip_labels = label_encoder.fit_transform(dat['zipcode'])\n",
    "\n",
    "# one-hot encode the integer labels\n",
    "onehot_encoder = preprocessing.OneHotEncoder()\n",
    "onehot_encoder.fit(zip_labels.reshape(-1, 1))\n",
    "\n",
    "# get the matrix of zip categories\n",
    "onehot_labels = onehot_encoder.transform(zip_labels.reshape(-1, 1)).toarray()\n",
    "\n",
    "# check that every row has one and only one categorical label\n",
    "all([sum(onehot_labels[i])==1 for i in range(len(onehot_labels))])"
   ]
  },
  {
   "cell_type": "code",
   "execution_count": 22,
   "metadata": {
    "collapsed": false
   },
   "outputs": [
    {
     "data": {
      "text/html": [
       "<div>\n",
       "<style scoped>\n",
       "    .dataframe tbody tr th:only-of-type {\n",
       "        vertical-align: middle;\n",
       "    }\n",
       "\n",
       "    .dataframe tbody tr th {\n",
       "        vertical-align: top;\n",
       "    }\n",
       "\n",
       "    .dataframe thead th {\n",
       "        text-align: right;\n",
       "    }\n",
       "</style>\n",
       "<table border=\"1\" class=\"dataframe\">\n",
       "  <thead>\n",
       "    <tr style=\"text-align: right;\">\n",
       "      <th></th>\n",
       "      <th>id</th>\n",
       "      <th>date</th>\n",
       "      <th>price</th>\n",
       "      <th>bedrooms</th>\n",
       "      <th>bathrooms</th>\n",
       "      <th>sqft_living</th>\n",
       "      <th>sqft_lot</th>\n",
       "      <th>floors</th>\n",
       "      <th>waterfront</th>\n",
       "      <th>view</th>\n",
       "      <th>...</th>\n",
       "      <th>zip60</th>\n",
       "      <th>zip61</th>\n",
       "      <th>zip62</th>\n",
       "      <th>zip63</th>\n",
       "      <th>zip64</th>\n",
       "      <th>zip65</th>\n",
       "      <th>zip66</th>\n",
       "      <th>zip67</th>\n",
       "      <th>zip68</th>\n",
       "      <th>zip69</th>\n",
       "    </tr>\n",
       "  </thead>\n",
       "  <tbody>\n",
       "    <tr>\n",
       "      <th>0</th>\n",
       "      <td>7129300520</td>\n",
       "      <td>20141013T000000</td>\n",
       "      <td>221900.0</td>\n",
       "      <td>3</td>\n",
       "      <td>1.00</td>\n",
       "      <td>1180</td>\n",
       "      <td>5650</td>\n",
       "      <td>1.0</td>\n",
       "      <td>0</td>\n",
       "      <td>0</td>\n",
       "      <td>...</td>\n",
       "      <td>0.0</td>\n",
       "      <td>0.0</td>\n",
       "      <td>0.0</td>\n",
       "      <td>0.0</td>\n",
       "      <td>0.0</td>\n",
       "      <td>0.0</td>\n",
       "      <td>1.0</td>\n",
       "      <td>0.0</td>\n",
       "      <td>0.0</td>\n",
       "      <td>0.0</td>\n",
       "    </tr>\n",
       "    <tr>\n",
       "      <th>1</th>\n",
       "      <td>6414100192</td>\n",
       "      <td>20141209T000000</td>\n",
       "      <td>538000.0</td>\n",
       "      <td>3</td>\n",
       "      <td>2.25</td>\n",
       "      <td>2570</td>\n",
       "      <td>7242</td>\n",
       "      <td>2.0</td>\n",
       "      <td>0</td>\n",
       "      <td>0</td>\n",
       "      <td>...</td>\n",
       "      <td>0.0</td>\n",
       "      <td>0.0</td>\n",
       "      <td>0.0</td>\n",
       "      <td>0.0</td>\n",
       "      <td>0.0</td>\n",
       "      <td>0.0</td>\n",
       "      <td>0.0</td>\n",
       "      <td>0.0</td>\n",
       "      <td>0.0</td>\n",
       "      <td>0.0</td>\n",
       "    </tr>\n",
       "    <tr>\n",
       "      <th>2</th>\n",
       "      <td>5631500400</td>\n",
       "      <td>20150225T000000</td>\n",
       "      <td>180000.0</td>\n",
       "      <td>2</td>\n",
       "      <td>1.00</td>\n",
       "      <td>770</td>\n",
       "      <td>10000</td>\n",
       "      <td>1.0</td>\n",
       "      <td>0</td>\n",
       "      <td>0</td>\n",
       "      <td>...</td>\n",
       "      <td>0.0</td>\n",
       "      <td>0.0</td>\n",
       "      <td>0.0</td>\n",
       "      <td>0.0</td>\n",
       "      <td>0.0</td>\n",
       "      <td>0.0</td>\n",
       "      <td>0.0</td>\n",
       "      <td>0.0</td>\n",
       "      <td>0.0</td>\n",
       "      <td>0.0</td>\n",
       "    </tr>\n",
       "    <tr>\n",
       "      <th>3</th>\n",
       "      <td>2487200875</td>\n",
       "      <td>20141209T000000</td>\n",
       "      <td>604000.0</td>\n",
       "      <td>4</td>\n",
       "      <td>3.00</td>\n",
       "      <td>1960</td>\n",
       "      <td>5000</td>\n",
       "      <td>1.0</td>\n",
       "      <td>0</td>\n",
       "      <td>0</td>\n",
       "      <td>...</td>\n",
       "      <td>0.0</td>\n",
       "      <td>0.0</td>\n",
       "      <td>0.0</td>\n",
       "      <td>0.0</td>\n",
       "      <td>0.0</td>\n",
       "      <td>0.0</td>\n",
       "      <td>0.0</td>\n",
       "      <td>0.0</td>\n",
       "      <td>0.0</td>\n",
       "      <td>0.0</td>\n",
       "    </tr>\n",
       "    <tr>\n",
       "      <th>4</th>\n",
       "      <td>1954400510</td>\n",
       "      <td>20150218T000000</td>\n",
       "      <td>510000.0</td>\n",
       "      <td>3</td>\n",
       "      <td>2.00</td>\n",
       "      <td>1680</td>\n",
       "      <td>8080</td>\n",
       "      <td>1.0</td>\n",
       "      <td>0</td>\n",
       "      <td>0</td>\n",
       "      <td>...</td>\n",
       "      <td>0.0</td>\n",
       "      <td>0.0</td>\n",
       "      <td>0.0</td>\n",
       "      <td>0.0</td>\n",
       "      <td>0.0</td>\n",
       "      <td>0.0</td>\n",
       "      <td>0.0</td>\n",
       "      <td>0.0</td>\n",
       "      <td>0.0</td>\n",
       "      <td>0.0</td>\n",
       "    </tr>\n",
       "  </tbody>\n",
       "</table>\n",
       "<p>5 rows × 90 columns</p>\n",
       "</div>"
      ],
      "text/plain": [
       "           id             date     price  bedrooms  bathrooms  sqft_living  \\\n",
       "0  7129300520  20141013T000000  221900.0         3       1.00         1180   \n",
       "1  6414100192  20141209T000000  538000.0         3       2.25         2570   \n",
       "2  5631500400  20150225T000000  180000.0         2       1.00          770   \n",
       "3  2487200875  20141209T000000  604000.0         4       3.00         1960   \n",
       "4  1954400510  20150218T000000  510000.0         3       2.00         1680   \n",
       "\n",
       "   sqft_lot  floors  waterfront  view  ...    zip60  zip61  zip62  zip63  \\\n",
       "0      5650     1.0           0     0  ...      0.0    0.0    0.0    0.0   \n",
       "1      7242     2.0           0     0  ...      0.0    0.0    0.0    0.0   \n",
       "2     10000     1.0           0     0  ...      0.0    0.0    0.0    0.0   \n",
       "3      5000     1.0           0     0  ...      0.0    0.0    0.0    0.0   \n",
       "4      8080     1.0           0     0  ...      0.0    0.0    0.0    0.0   \n",
       "\n",
       "   zip64  zip65  zip66  zip67  zip68  zip69  \n",
       "0    0.0    0.0    1.0    0.0    0.0    0.0  \n",
       "1    0.0    0.0    0.0    0.0    0.0    0.0  \n",
       "2    0.0    0.0    0.0    0.0    0.0    0.0  \n",
       "3    0.0    0.0    0.0    0.0    0.0    0.0  \n",
       "4    0.0    0.0    0.0    0.0    0.0    0.0  \n",
       "\n",
       "[5 rows x 90 columns]"
      ]
     },
     "execution_count": 22,
     "metadata": {},
     "output_type": "execute_result"
    }
   ],
   "source": [
    "# generate a dataframe of the one-hot encoded zip categories\n",
    "zip_column_names = ['zip{}'.format(i) for i in range(onehot_labels.shape[1])]\n",
    "zip_pd = pd.DataFrame(data=onehot_labels, \n",
    "                     columns=zip_column_names)\n",
    "\n",
    "# we will store the transformed dataset as dat_2\n",
    "# join the two dataframes and drop the old zipcode column\n",
    "dat_2 = dat.join(zip_pd)\n",
    "dat_2 = dat_2.drop(labels='zipcode', axis=1)\n",
    "dat_2.to_csv('dat_2.csv')\n",
    "dat_2.head()"
   ]
  },
  {
   "cell_type": "markdown",
   "metadata": {},
   "source": [
    "### XGBoost with one-hot zipcode data"
   ]
  },
  {
   "cell_type": "code",
   "execution_count": 159,
   "metadata": {
    "collapsed": false
   },
   "outputs": [],
   "source": [
    "def score_xgb(dat, feature_columns):\n",
    "    # xgboost regressor\n",
    "#     xgb = xgboost.XGBRegressor(n_estimators=100, learning_rate=0.08,\n",
    "#                            gamma=0, subsample=0.75, \n",
    "#                            colsample_bytree=1, max_depth=7)\n",
    "    xgb = xgboost.XGBRegressor(n_estimators=200, learning_rate=0.05,\n",
    "                               gamma=0, subsample=0.70, \n",
    "                               colsample_bytree=0.7, max_depth=15)\n",
    "    \n",
    "    # target is real estate price\n",
    "    target = dat.price\n",
    "    features = dat[feature_columns]\n",
    "    \n",
    "    # split into train and test sets\n",
    "    features_train, features_test, target_train, target_test =\\\n",
    "    model_selection.train_test_split(features.values, target.values, test_size=0.33)\n",
    "\n",
    "    # perform fit and evaluate performance\n",
    "    xgb.fit(features_train, target_train)\n",
    "    predictions = xgb.predict(features_test)\n",
    "    return explained_variance_score(predictions, target_test)"
   ]
  },
  {
   "cell_type": "code",
   "execution_count": 109,
   "metadata": {
    "collapsed": false
   },
   "outputs": [
    {
     "data": {
      "text/plain": [
       "0.8387932265062801"
      ]
     },
     "execution_count": 109,
     "metadata": {},
     "output_type": "execute_result"
    }
   ],
   "source": [
    "# features found to be useful\n",
    "feature_columns_2 = ['sqft_living','grade', 'sqft_above', 'sqft_living15','bathrooms','view','sqft_basement','lat','waterfront','yr_built','bedrooms']\n",
    "\n",
    "# add the zip code columns\n",
    "feature_columns_2 += zip_column_names\n",
    "\n",
    "# evaluate the regression on the transformed dataset\n",
    "score_xgb(dat_2, feature_columns_2)"
   ]
  },
  {
   "cell_type": "markdown",
   "metadata": {},
   "source": [
    "## Dimensionality reduction\n",
    "\n",
    "70 new columns is a bit much. Let's use PCA to reduce the dimensions.\n",
    "\n",
    "TODO: FeatureAgglomeration"
   ]
  },
  {
   "cell_type": "code",
   "execution_count": 29,
   "metadata": {
    "collapsed": false
   },
   "outputs": [
    {
     "data": {
      "text/html": [
       "<div>\n",
       "<style scoped>\n",
       "    .dataframe tbody tr th:only-of-type {\n",
       "        vertical-align: middle;\n",
       "    }\n",
       "\n",
       "    .dataframe tbody tr th {\n",
       "        vertical-align: top;\n",
       "    }\n",
       "\n",
       "    .dataframe thead th {\n",
       "        text-align: right;\n",
       "    }\n",
       "</style>\n",
       "<table border=\"1\" class=\"dataframe\">\n",
       "  <thead>\n",
       "    <tr style=\"text-align: right;\">\n",
       "      <th></th>\n",
       "      <th>id</th>\n",
       "      <th>date</th>\n",
       "      <th>price</th>\n",
       "      <th>bedrooms</th>\n",
       "      <th>bathrooms</th>\n",
       "      <th>sqft_living</th>\n",
       "      <th>sqft_lot</th>\n",
       "      <th>floors</th>\n",
       "      <th>waterfront</th>\n",
       "      <th>view</th>\n",
       "      <th>...</th>\n",
       "      <th>pc0</th>\n",
       "      <th>pc1</th>\n",
       "      <th>pc2</th>\n",
       "      <th>pc3</th>\n",
       "      <th>pc4</th>\n",
       "      <th>pc5</th>\n",
       "      <th>pc6</th>\n",
       "      <th>pc7</th>\n",
       "      <th>pc8</th>\n",
       "      <th>pc9</th>\n",
       "    </tr>\n",
       "  </thead>\n",
       "  <tbody>\n",
       "    <tr>\n",
       "      <th>0</th>\n",
       "      <td>7129300520</td>\n",
       "      <td>20141013T000000</td>\n",
       "      <td>221900.0</td>\n",
       "      <td>3</td>\n",
       "      <td>1.00</td>\n",
       "      <td>1180</td>\n",
       "      <td>5650</td>\n",
       "      <td>1.0</td>\n",
       "      <td>0</td>\n",
       "      <td>0</td>\n",
       "      <td>...</td>\n",
       "      <td>-0.030083</td>\n",
       "      <td>-0.006049</td>\n",
       "      <td>-0.010159</td>\n",
       "      <td>0.024086</td>\n",
       "      <td>0.018099</td>\n",
       "      <td>-0.007116</td>\n",
       "      <td>-0.023477</td>\n",
       "      <td>0.018869</td>\n",
       "      <td>-0.006561</td>\n",
       "      <td>-0.003304</td>\n",
       "    </tr>\n",
       "    <tr>\n",
       "      <th>1</th>\n",
       "      <td>6414100192</td>\n",
       "      <td>20141209T000000</td>\n",
       "      <td>538000.0</td>\n",
       "      <td>3</td>\n",
       "      <td>2.25</td>\n",
       "      <td>2570</td>\n",
       "      <td>7242</td>\n",
       "      <td>2.0</td>\n",
       "      <td>0</td>\n",
       "      <td>0</td>\n",
       "      <td>...</td>\n",
       "      <td>-0.080037</td>\n",
       "      <td>-0.043093</td>\n",
       "      <td>-0.037604</td>\n",
       "      <td>0.121337</td>\n",
       "      <td>-0.008207</td>\n",
       "      <td>0.016801</td>\n",
       "      <td>-0.129863</td>\n",
       "      <td>-0.040887</td>\n",
       "      <td>0.068935</td>\n",
       "      <td>-0.062577</td>\n",
       "    </tr>\n",
       "    <tr>\n",
       "      <th>2</th>\n",
       "      <td>5631500400</td>\n",
       "      <td>20150225T000000</td>\n",
       "      <td>180000.0</td>\n",
       "      <td>2</td>\n",
       "      <td>1.00</td>\n",
       "      <td>770</td>\n",
       "      <td>10000</td>\n",
       "      <td>1.0</td>\n",
       "      <td>0</td>\n",
       "      <td>0</td>\n",
       "      <td>...</td>\n",
       "      <td>-0.023566</td>\n",
       "      <td>-0.030813</td>\n",
       "      <td>-0.011655</td>\n",
       "      <td>0.042911</td>\n",
       "      <td>0.007715</td>\n",
       "      <td>-0.010158</td>\n",
       "      <td>-0.033904</td>\n",
       "      <td>-0.003769</td>\n",
       "      <td>0.002173</td>\n",
       "      <td>-0.063861</td>\n",
       "    </tr>\n",
       "    <tr>\n",
       "      <th>3</th>\n",
       "      <td>2487200875</td>\n",
       "      <td>20141209T000000</td>\n",
       "      <td>604000.0</td>\n",
       "      <td>4</td>\n",
       "      <td>3.00</td>\n",
       "      <td>1960</td>\n",
       "      <td>5000</td>\n",
       "      <td>1.0</td>\n",
       "      <td>0</td>\n",
       "      <td>0</td>\n",
       "      <td>...</td>\n",
       "      <td>-0.032066</td>\n",
       "      <td>-0.006879</td>\n",
       "      <td>-0.012488</td>\n",
       "      <td>0.048143</td>\n",
       "      <td>0.005695</td>\n",
       "      <td>-0.019294</td>\n",
       "      <td>0.005906</td>\n",
       "      <td>0.023425</td>\n",
       "      <td>0.019163</td>\n",
       "      <td>0.011165</td>\n",
       "    </tr>\n",
       "    <tr>\n",
       "      <th>4</th>\n",
       "      <td>1954400510</td>\n",
       "      <td>20150218T000000</td>\n",
       "      <td>510000.0</td>\n",
       "      <td>3</td>\n",
       "      <td>2.00</td>\n",
       "      <td>1680</td>\n",
       "      <td>8080</td>\n",
       "      <td>1.0</td>\n",
       "      <td>0</td>\n",
       "      <td>0</td>\n",
       "      <td>...</td>\n",
       "      <td>-0.019928</td>\n",
       "      <td>-0.038341</td>\n",
       "      <td>0.020576</td>\n",
       "      <td>-0.054592</td>\n",
       "      <td>-0.002977</td>\n",
       "      <td>-0.156404</td>\n",
       "      <td>0.056114</td>\n",
       "      <td>-0.084391</td>\n",
       "      <td>0.041354</td>\n",
       "      <td>0.131443</td>\n",
       "    </tr>\n",
       "  </tbody>\n",
       "</table>\n",
       "<p>5 rows × 30 columns</p>\n",
       "</div>"
      ],
      "text/plain": [
       "           id             date     price  bedrooms  bathrooms  sqft_living  \\\n",
       "0  7129300520  20141013T000000  221900.0         3       1.00         1180   \n",
       "1  6414100192  20141209T000000  538000.0         3       2.25         2570   \n",
       "2  5631500400  20150225T000000  180000.0         2       1.00          770   \n",
       "3  2487200875  20141209T000000  604000.0         4       3.00         1960   \n",
       "4  1954400510  20150218T000000  510000.0         3       2.00         1680   \n",
       "\n",
       "   sqft_lot  floors  waterfront  view    ...          pc0       pc1       pc2  \\\n",
       "0      5650     1.0           0     0    ...    -0.030083 -0.006049 -0.010159   \n",
       "1      7242     2.0           0     0    ...    -0.080037 -0.043093 -0.037604   \n",
       "2     10000     1.0           0     0    ...    -0.023566 -0.030813 -0.011655   \n",
       "3      5000     1.0           0     0    ...    -0.032066 -0.006879 -0.012488   \n",
       "4      8080     1.0           0     0    ...    -0.019928 -0.038341  0.020576   \n",
       "\n",
       "        pc3       pc4       pc5       pc6       pc7       pc8       pc9  \n",
       "0  0.024086  0.018099 -0.007116 -0.023477  0.018869 -0.006561 -0.003304  \n",
       "1  0.121337 -0.008207  0.016801 -0.129863 -0.040887  0.068935 -0.062577  \n",
       "2  0.042911  0.007715 -0.010158 -0.033904 -0.003769  0.002173 -0.063861  \n",
       "3  0.048143  0.005695 -0.019294  0.005906  0.023425  0.019163  0.011165  \n",
       "4 -0.054592 -0.002977 -0.156404  0.056114 -0.084391  0.041354  0.131443  \n",
       "\n",
       "[5 rows x 30 columns]"
      ]
     },
     "execution_count": 29,
     "metadata": {},
     "output_type": "execute_result"
    }
   ],
   "source": [
    "# reduce to 10 columns\n",
    "n_components=10\n",
    "\n",
    "# perform PCA on zipcode labels\n",
    "pca = PCA(n_components=n_components)\n",
    "principal_components = pca.fit_transform(zip_pd)\n",
    "\n",
    "# create new dataframe of principal component data\n",
    "pca_labels = ['pc{}'.format(i) for i in range(n_components)]\n",
    "pca_pd = pd.DataFrame(data=principal_components, \n",
    "                      columns=pca_labels)\n",
    "\n",
    "# we will store a new transformed dataset as dat_3\n",
    "# join the two dataframes and drop the old zipcode column\n",
    "dat_3 = dat.join(pca_pd)\n",
    "dat_3 = dat_3.drop(labels='zipcode', axis=1)\n",
    "dat_3.to_csv('dat_3.csv')\n",
    "dat_3.head()"
   ]
  },
  {
   "cell_type": "markdown",
   "metadata": {},
   "source": [
    "Evaluate the transformed dataset"
   ]
  },
  {
   "cell_type": "code",
   "execution_count": 30,
   "metadata": {
    "collapsed": false,
    "scrolled": true
   },
   "outputs": [
    {
     "data": {
      "text/plain": [
       "0.8746367100794001"
      ]
     },
     "execution_count": 30,
     "metadata": {},
     "output_type": "execute_result"
    }
   ],
   "source": [
    "# features found to be useful\n",
    "feature_columns_3 = ['sqft_living','grade', 'sqft_above', 'sqft_living15','bathrooms','view','sqft_basement','lat','waterfront','yr_built','bedrooms']\n",
    "\n",
    "# add the zip code columns\n",
    "feature_columns_3 += pca_labels\n",
    "\n",
    "# evaluate the regression on the transformed dataset\n",
    "score_xgb(dat_3, feature_columns_3)"
   ]
  },
  {
   "cell_type": "markdown",
   "metadata": {},
   "source": [
    "Did the dimensionality reduction give us a performance boost?"
   ]
  },
  {
   "cell_type": "code",
   "execution_count": 31,
   "metadata": {
    "collapsed": true
   },
   "outputs": [],
   "source": [
    "def model_time(dat, features):\n",
    "    start = time.time()\n",
    "    score_xgb(dat, features)\n",
    "    end = time.time()\n",
    "    print('time required: {}'.format(end - start))"
   ]
  },
  {
   "cell_type": "code",
   "execution_count": 32,
   "metadata": {
    "collapsed": false
   },
   "outputs": [
    {
     "name": "stdout",
     "output_type": "stream",
     "text": [
      "30 columns \n",
      "time required: 3.060359001159668\n",
      "90 columns \n",
      "time required: 8.93336296081543\n"
     ]
    }
   ],
   "source": [
    "print('{} columns \\r'.format(dat_3.shape[1]))\n",
    "model_time(dat_3, feature_columns_3)\n",
    "print('{} columns \\r'.format(dat_2.shape[1]))\n",
    "model_time(dat_2, feature_columns_2)"
   ]
  },
  {
   "cell_type": "markdown",
   "metadata": {},
   "source": [
    "## Date information\n",
    "\n",
    "We've excluded the date column, which includes year information which should be useful.\n",
    "\n",
    "Why stop with years though? We could fine-grain it by days since the earliest date.\n",
    "\n",
    "I expect there would be variations on each scale, so let's try a few features:\n",
    "\n",
    "* absolute_time\n",
    "* day_of_year\n",
    "* day_of_week\n",
    "* month_of_year\n",
    "* hour_of_day\n",
    "* minute_of_hour\n",
    "\n",
    "We will have to change some of these to one-hot encoding."
   ]
  },
  {
   "cell_type": "markdown",
   "metadata": {},
   "source": [
    "#### Calculate date objects"
   ]
  },
  {
   "cell_type": "code",
   "execution_count": 33,
   "metadata": {
    "collapsed": false,
    "scrolled": true
   },
   "outputs": [
    {
     "data": {
      "text/plain": [
       "[datetime.date(2014, 10, 13),\n",
       " datetime.date(2014, 12, 9),\n",
       " datetime.date(2015, 2, 25),\n",
       " datetime.date(2014, 12, 9),\n",
       " datetime.date(2015, 2, 18),\n",
       " datetime.date(2014, 5, 12),\n",
       " datetime.date(2014, 6, 27),\n",
       " datetime.date(2015, 1, 15),\n",
       " datetime.date(2015, 4, 15),\n",
       " datetime.date(2015, 3, 12)]"
      ]
     },
     "execution_count": 33,
     "metadata": {},
     "output_type": "execute_result"
    }
   ],
   "source": [
    "date_strings = [d[:8] for d in dat['date']]\n",
    "dates = [datetime.datetime.strptime(date_string, \"%Y%m%d\").date() for date_string in date_strings]\n",
    "dates[:10]"
   ]
  },
  {
   "cell_type": "markdown",
   "metadata": {},
   "source": [
    "#### Calculate relevant metrics"
   ]
  },
  {
   "cell_type": "code",
   "execution_count": 34,
   "metadata": {
    "collapsed": false,
    "scrolled": true
   },
   "outputs": [],
   "source": [
    "earliest_date = min(dates)\n",
    "absolute_day = np.array([(dates[i]-earliest_date).days for i in range(len(dates))])\n",
    "month_of_year = np.array([dates[i].month for i in range(len(dates))])\n",
    "day_of_month = np.array([dates[i].day for i in range(len(dates))])\n",
    "day_of_week = np.array([dates[i].weekday() for i in range(len(dates))])\n",
    "day_of_year = np.array([dates[i].timetuple().tm_yday for i in range(len(dates))])\n",
    "year = np.array([dates[i].year for i in range(len(dates))])\n",
    "\n",
    "date_data = np.column_stack([absolute_day, day_of_week, day_of_month, day_of_year, month_of_year, year])\n",
    "date_labels = ['absolute_day', 'day_of_week', 'day_of_month', 'day_of_year', 'month_of_year', 'year']\n",
    "date_pd = pd.DataFrame(data=date_data, columns=date_labels)"
   ]
  },
  {
   "cell_type": "code",
   "execution_count": 35,
   "metadata": {
    "collapsed": false
   },
   "outputs": [
    {
     "data": {
      "text/html": [
       "<div>\n",
       "<style scoped>\n",
       "    .dataframe tbody tr th:only-of-type {\n",
       "        vertical-align: middle;\n",
       "    }\n",
       "\n",
       "    .dataframe tbody tr th {\n",
       "        vertical-align: top;\n",
       "    }\n",
       "\n",
       "    .dataframe thead th {\n",
       "        text-align: right;\n",
       "    }\n",
       "</style>\n",
       "<table border=\"1\" class=\"dataframe\">\n",
       "  <thead>\n",
       "    <tr style=\"text-align: right;\">\n",
       "      <th></th>\n",
       "      <th>id</th>\n",
       "      <th>date</th>\n",
       "      <th>price</th>\n",
       "      <th>bedrooms</th>\n",
       "      <th>bathrooms</th>\n",
       "      <th>sqft_living</th>\n",
       "      <th>sqft_lot</th>\n",
       "      <th>floors</th>\n",
       "      <th>waterfront</th>\n",
       "      <th>view</th>\n",
       "      <th>...</th>\n",
       "      <th>pc6</th>\n",
       "      <th>pc7</th>\n",
       "      <th>pc8</th>\n",
       "      <th>pc9</th>\n",
       "      <th>absolute_day</th>\n",
       "      <th>day_of_week</th>\n",
       "      <th>day_of_month</th>\n",
       "      <th>day_of_year</th>\n",
       "      <th>month_of_year</th>\n",
       "      <th>year</th>\n",
       "    </tr>\n",
       "  </thead>\n",
       "  <tbody>\n",
       "    <tr>\n",
       "      <th>0</th>\n",
       "      <td>7129300520</td>\n",
       "      <td>20141013T000000</td>\n",
       "      <td>221900.0</td>\n",
       "      <td>3</td>\n",
       "      <td>1.00</td>\n",
       "      <td>1180</td>\n",
       "      <td>5650</td>\n",
       "      <td>1.0</td>\n",
       "      <td>0</td>\n",
       "      <td>0</td>\n",
       "      <td>...</td>\n",
       "      <td>-0.023477</td>\n",
       "      <td>0.018869</td>\n",
       "      <td>-0.006561</td>\n",
       "      <td>-0.003304</td>\n",
       "      <td>164</td>\n",
       "      <td>0</td>\n",
       "      <td>13</td>\n",
       "      <td>286</td>\n",
       "      <td>10</td>\n",
       "      <td>2014</td>\n",
       "    </tr>\n",
       "    <tr>\n",
       "      <th>1</th>\n",
       "      <td>6414100192</td>\n",
       "      <td>20141209T000000</td>\n",
       "      <td>538000.0</td>\n",
       "      <td>3</td>\n",
       "      <td>2.25</td>\n",
       "      <td>2570</td>\n",
       "      <td>7242</td>\n",
       "      <td>2.0</td>\n",
       "      <td>0</td>\n",
       "      <td>0</td>\n",
       "      <td>...</td>\n",
       "      <td>-0.129863</td>\n",
       "      <td>-0.040887</td>\n",
       "      <td>0.068935</td>\n",
       "      <td>-0.062577</td>\n",
       "      <td>221</td>\n",
       "      <td>1</td>\n",
       "      <td>9</td>\n",
       "      <td>343</td>\n",
       "      <td>12</td>\n",
       "      <td>2014</td>\n",
       "    </tr>\n",
       "    <tr>\n",
       "      <th>2</th>\n",
       "      <td>5631500400</td>\n",
       "      <td>20150225T000000</td>\n",
       "      <td>180000.0</td>\n",
       "      <td>2</td>\n",
       "      <td>1.00</td>\n",
       "      <td>770</td>\n",
       "      <td>10000</td>\n",
       "      <td>1.0</td>\n",
       "      <td>0</td>\n",
       "      <td>0</td>\n",
       "      <td>...</td>\n",
       "      <td>-0.033904</td>\n",
       "      <td>-0.003769</td>\n",
       "      <td>0.002173</td>\n",
       "      <td>-0.063861</td>\n",
       "      <td>299</td>\n",
       "      <td>2</td>\n",
       "      <td>25</td>\n",
       "      <td>56</td>\n",
       "      <td>2</td>\n",
       "      <td>2015</td>\n",
       "    </tr>\n",
       "    <tr>\n",
       "      <th>3</th>\n",
       "      <td>2487200875</td>\n",
       "      <td>20141209T000000</td>\n",
       "      <td>604000.0</td>\n",
       "      <td>4</td>\n",
       "      <td>3.00</td>\n",
       "      <td>1960</td>\n",
       "      <td>5000</td>\n",
       "      <td>1.0</td>\n",
       "      <td>0</td>\n",
       "      <td>0</td>\n",
       "      <td>...</td>\n",
       "      <td>0.005906</td>\n",
       "      <td>0.023425</td>\n",
       "      <td>0.019163</td>\n",
       "      <td>0.011165</td>\n",
       "      <td>221</td>\n",
       "      <td>1</td>\n",
       "      <td>9</td>\n",
       "      <td>343</td>\n",
       "      <td>12</td>\n",
       "      <td>2014</td>\n",
       "    </tr>\n",
       "    <tr>\n",
       "      <th>4</th>\n",
       "      <td>1954400510</td>\n",
       "      <td>20150218T000000</td>\n",
       "      <td>510000.0</td>\n",
       "      <td>3</td>\n",
       "      <td>2.00</td>\n",
       "      <td>1680</td>\n",
       "      <td>8080</td>\n",
       "      <td>1.0</td>\n",
       "      <td>0</td>\n",
       "      <td>0</td>\n",
       "      <td>...</td>\n",
       "      <td>0.056114</td>\n",
       "      <td>-0.084391</td>\n",
       "      <td>0.041354</td>\n",
       "      <td>0.131443</td>\n",
       "      <td>292</td>\n",
       "      <td>2</td>\n",
       "      <td>18</td>\n",
       "      <td>49</td>\n",
       "      <td>2</td>\n",
       "      <td>2015</td>\n",
       "    </tr>\n",
       "  </tbody>\n",
       "</table>\n",
       "<p>5 rows × 36 columns</p>\n",
       "</div>"
      ],
      "text/plain": [
       "           id             date     price  bedrooms  bathrooms  sqft_living  \\\n",
       "0  7129300520  20141013T000000  221900.0         3       1.00         1180   \n",
       "1  6414100192  20141209T000000  538000.0         3       2.25         2570   \n",
       "2  5631500400  20150225T000000  180000.0         2       1.00          770   \n",
       "3  2487200875  20141209T000000  604000.0         4       3.00         1960   \n",
       "4  1954400510  20150218T000000  510000.0         3       2.00         1680   \n",
       "\n",
       "   sqft_lot  floors  waterfront  view  ...        pc6       pc7       pc8  \\\n",
       "0      5650     1.0           0     0  ...  -0.023477  0.018869 -0.006561   \n",
       "1      7242     2.0           0     0  ...  -0.129863 -0.040887  0.068935   \n",
       "2     10000     1.0           0     0  ...  -0.033904 -0.003769  0.002173   \n",
       "3      5000     1.0           0     0  ...   0.005906  0.023425  0.019163   \n",
       "4      8080     1.0           0     0  ...   0.056114 -0.084391  0.041354   \n",
       "\n",
       "        pc9  absolute_day  day_of_week  day_of_month  day_of_year  \\\n",
       "0 -0.003304           164            0            13          286   \n",
       "1 -0.062577           221            1             9          343   \n",
       "2 -0.063861           299            2            25           56   \n",
       "3  0.011165           221            1             9          343   \n",
       "4  0.131443           292            2            18           49   \n",
       "\n",
       "   month_of_year  year  \n",
       "0             10  2014  \n",
       "1             12  2014  \n",
       "2              2  2015  \n",
       "3             12  2014  \n",
       "4              2  2015  \n",
       "\n",
       "[5 rows x 36 columns]"
      ]
     },
     "execution_count": 35,
     "metadata": {},
     "output_type": "execute_result"
    }
   ],
   "source": [
    "dat_4 = dat_3.join(date_pd)\n",
    "dat_4.to_csv('dat_4.csv')\n",
    "dat_4.head()"
   ]
  },
  {
   "cell_type": "code",
   "execution_count": 88,
   "metadata": {
    "collapsed": false,
    "scrolled": false
   },
   "outputs": [
    {
     "data": {
      "text/html": [
       "<div>\n",
       "<style scoped>\n",
       "    .dataframe tbody tr th:only-of-type {\n",
       "        vertical-align: middle;\n",
       "    }\n",
       "\n",
       "    .dataframe tbody tr th {\n",
       "        vertical-align: top;\n",
       "    }\n",
       "\n",
       "    .dataframe thead th {\n",
       "        text-align: right;\n",
       "    }\n",
       "</style>\n",
       "<table border=\"1\" class=\"dataframe\">\n",
       "  <thead>\n",
       "    <tr style=\"text-align: right;\">\n",
       "      <th></th>\n",
       "      <th>id</th>\n",
       "      <th>date</th>\n",
       "      <th>price</th>\n",
       "      <th>bedrooms</th>\n",
       "      <th>bathrooms</th>\n",
       "      <th>sqft_living</th>\n",
       "      <th>sqft_lot</th>\n",
       "      <th>floors</th>\n",
       "      <th>waterfront</th>\n",
       "      <th>view</th>\n",
       "      <th>...</th>\n",
       "      <th>jun</th>\n",
       "      <th>jul</th>\n",
       "      <th>aug</th>\n",
       "      <th>sep</th>\n",
       "      <th>oct</th>\n",
       "      <th>nov</th>\n",
       "      <th>dec</th>\n",
       "      <th>2014</th>\n",
       "      <th>2015</th>\n",
       "      <th>absolute_day</th>\n",
       "    </tr>\n",
       "  </thead>\n",
       "  <tbody>\n",
       "    <tr>\n",
       "      <th>0</th>\n",
       "      <td>7129300520</td>\n",
       "      <td>20141013T000000</td>\n",
       "      <td>221900.0</td>\n",
       "      <td>3</td>\n",
       "      <td>1.00</td>\n",
       "      <td>1180</td>\n",
       "      <td>5650</td>\n",
       "      <td>1.0</td>\n",
       "      <td>0</td>\n",
       "      <td>0</td>\n",
       "      <td>...</td>\n",
       "      <td>0.0</td>\n",
       "      <td>0.0</td>\n",
       "      <td>0.0</td>\n",
       "      <td>0.0</td>\n",
       "      <td>1.0</td>\n",
       "      <td>0.0</td>\n",
       "      <td>0.0</td>\n",
       "      <td>1.0</td>\n",
       "      <td>0.0</td>\n",
       "      <td>164</td>\n",
       "    </tr>\n",
       "    <tr>\n",
       "      <th>1</th>\n",
       "      <td>6414100192</td>\n",
       "      <td>20141209T000000</td>\n",
       "      <td>538000.0</td>\n",
       "      <td>3</td>\n",
       "      <td>2.25</td>\n",
       "      <td>2570</td>\n",
       "      <td>7242</td>\n",
       "      <td>2.0</td>\n",
       "      <td>0</td>\n",
       "      <td>0</td>\n",
       "      <td>...</td>\n",
       "      <td>0.0</td>\n",
       "      <td>0.0</td>\n",
       "      <td>0.0</td>\n",
       "      <td>0.0</td>\n",
       "      <td>0.0</td>\n",
       "      <td>0.0</td>\n",
       "      <td>1.0</td>\n",
       "      <td>1.0</td>\n",
       "      <td>0.0</td>\n",
       "      <td>221</td>\n",
       "    </tr>\n",
       "    <tr>\n",
       "      <th>2</th>\n",
       "      <td>5631500400</td>\n",
       "      <td>20150225T000000</td>\n",
       "      <td>180000.0</td>\n",
       "      <td>2</td>\n",
       "      <td>1.00</td>\n",
       "      <td>770</td>\n",
       "      <td>10000</td>\n",
       "      <td>1.0</td>\n",
       "      <td>0</td>\n",
       "      <td>0</td>\n",
       "      <td>...</td>\n",
       "      <td>0.0</td>\n",
       "      <td>0.0</td>\n",
       "      <td>0.0</td>\n",
       "      <td>0.0</td>\n",
       "      <td>0.0</td>\n",
       "      <td>0.0</td>\n",
       "      <td>0.0</td>\n",
       "      <td>0.0</td>\n",
       "      <td>1.0</td>\n",
       "      <td>299</td>\n",
       "    </tr>\n",
       "    <tr>\n",
       "      <th>3</th>\n",
       "      <td>2487200875</td>\n",
       "      <td>20141209T000000</td>\n",
       "      <td>604000.0</td>\n",
       "      <td>4</td>\n",
       "      <td>3.00</td>\n",
       "      <td>1960</td>\n",
       "      <td>5000</td>\n",
       "      <td>1.0</td>\n",
       "      <td>0</td>\n",
       "      <td>0</td>\n",
       "      <td>...</td>\n",
       "      <td>0.0</td>\n",
       "      <td>0.0</td>\n",
       "      <td>0.0</td>\n",
       "      <td>0.0</td>\n",
       "      <td>0.0</td>\n",
       "      <td>0.0</td>\n",
       "      <td>1.0</td>\n",
       "      <td>1.0</td>\n",
       "      <td>0.0</td>\n",
       "      <td>221</td>\n",
       "    </tr>\n",
       "    <tr>\n",
       "      <th>4</th>\n",
       "      <td>1954400510</td>\n",
       "      <td>20150218T000000</td>\n",
       "      <td>510000.0</td>\n",
       "      <td>3</td>\n",
       "      <td>2.00</td>\n",
       "      <td>1680</td>\n",
       "      <td>8080</td>\n",
       "      <td>1.0</td>\n",
       "      <td>0</td>\n",
       "      <td>0</td>\n",
       "      <td>...</td>\n",
       "      <td>0.0</td>\n",
       "      <td>0.0</td>\n",
       "      <td>0.0</td>\n",
       "      <td>0.0</td>\n",
       "      <td>0.0</td>\n",
       "      <td>0.0</td>\n",
       "      <td>0.0</td>\n",
       "      <td>0.0</td>\n",
       "      <td>1.0</td>\n",
       "      <td>292</td>\n",
       "    </tr>\n",
       "  </tbody>\n",
       "</table>\n",
       "<p>5 rows × 112 columns</p>\n",
       "</div>"
      ],
      "text/plain": [
       "           id             date     price  bedrooms  bathrooms  sqft_living  \\\n",
       "0  7129300520  20141013T000000  221900.0         3       1.00         1180   \n",
       "1  6414100192  20141209T000000  538000.0         3       2.25         2570   \n",
       "2  5631500400  20150225T000000  180000.0         2       1.00          770   \n",
       "3  2487200875  20141209T000000  604000.0         4       3.00         1960   \n",
       "4  1954400510  20150218T000000  510000.0         3       2.00         1680   \n",
       "\n",
       "   sqft_lot  floors  waterfront  view      ...       jun  jul  aug  sep  oct  \\\n",
       "0      5650     1.0           0     0      ...       0.0  0.0  0.0  0.0  1.0   \n",
       "1      7242     2.0           0     0      ...       0.0  0.0  0.0  0.0  0.0   \n",
       "2     10000     1.0           0     0      ...       0.0  0.0  0.0  0.0  0.0   \n",
       "3      5000     1.0           0     0      ...       0.0  0.0  0.0  0.0  0.0   \n",
       "4      8080     1.0           0     0      ...       0.0  0.0  0.0  0.0  0.0   \n",
       "\n",
       "   nov  dec  2014  2015  absolute_day  \n",
       "0  0.0  0.0   1.0   0.0           164  \n",
       "1  0.0  1.0   1.0   0.0           221  \n",
       "2  0.0  0.0   0.0   1.0           299  \n",
       "3  0.0  1.0   1.0   0.0           221  \n",
       "4  0.0  0.0   0.0   1.0           292  \n",
       "\n",
       "[5 rows x 112 columns]"
      ]
     },
     "execution_count": 88,
     "metadata": {},
     "output_type": "execute_result"
    }
   ],
   "source": [
    "# one-hot encode day of week, month, and year\n",
    "onehot_encoder = preprocessing.OneHotEncoder()\n",
    "onehot_encoder.fit(day_of_week.reshape(-1, 1))\n",
    "day_labels = onehot_encoder.transform(day_of_week.reshape(-1, 1)).toarray()\n",
    "day_pd = pd.DataFrame(data=day_labels, columns=['mon', 'tue', 'wed', 'thu', 'fri', 'sat', 'sun'])\n",
    "\n",
    "onehot_encoder.fit(month_of_year.reshape(-1, 1))\n",
    "month_labels = onehot_encoder.transform(month_of_year.reshape(-1, 1)).toarray()\n",
    "month_pd = pd.DataFrame(data=month_labels, columns=['jan', 'feb', 'mar', 'apr', 'may', \n",
    "                                                  'jun', 'jul', 'aug', 'sep', 'oct', \n",
    "                                                  'nov', 'dec'])\n",
    "onehot_encoder.fit(year.reshape(-1, 1))\n",
    "year_labels = onehot_encoder.transform(year.reshape(-1, 1)).toarray()\n",
    "year_pd = pd.DataFrame(data=year_labels, columns=['2014', '2015'])\n",
    "\n",
    "abs_pd = pd.DataFrame(data=absolute_day, columns=['absolute_day'])\n",
    "dat_5 = dat_2.join([day_pd, month_pd, year_pd, abs_pd])\n",
    "dat_5.head()"
   ]
  },
  {
   "cell_type": "code",
   "execution_count": 170,
   "metadata": {
    "collapsed": false
   },
   "outputs": [
    {
     "data": {
      "text/plain": [
       "0.8687276110039416"
      ]
     },
     "execution_count": 170,
     "metadata": {},
     "output_type": "execute_result"
    }
   ],
   "source": [
    "# features found to be useful\n",
    "feature_columns_5 = ['sqft_living', 'grade', 'sqft_above', 'sqft_living15', 'bathrooms', 'view', 'sqft_basement', 'lat', 'long', 'waterfront', 'yr_built', 'bedrooms']\n",
    "\n",
    "# add the zip code columns\n",
    "feature_columns_5 += zip_column_names\n",
    "# feature_columns_5 += pca_labels\n",
    "# feature_columns_5 += ['mon', 'tue', 'wed', 'thu', 'fri', 'sat', 'sun']\n",
    "feature_columns_5 += ['jan', 'feb', 'mar', 'apr', 'may', 'jun', 'jul', 'aug', 'sep', 'oct', 'nov', 'dec']\n",
    "feature_columns_5 += ['absolute_day']\n",
    "# feature_columns_5 += ['2014', '2015']\n",
    "\n",
    "# evaluate the regression on the transformed dataset\n",
    "score_xgb(dat_5, feature_columns_5)"
   ]
  },
  {
   "cell_type": "code",
   "execution_count": 175,
   "metadata": {
    "collapsed": false,
    "scrolled": true
   },
   "outputs": [
    {
     "data": {
      "text/plain": [
       "0.8469308828121839"
      ]
     },
     "execution_count": 175,
     "metadata": {},
     "output_type": "execute_result"
    }
   ],
   "source": [
    "# dataset: zipcode PCA\n",
    "feature_columns_3 = ['sqft_living','grade', 'sqft_above', 'sqft_living15', 'bathrooms','view','sqft_basement','lat', 'long', 'waterfront','yr_built','bedrooms']\n",
    "feature_columns_3 += pca_labels\n",
    "score_xgb(dat_3, feature_columns_3)"
   ]
  },
  {
   "cell_type": "code",
   "execution_count": 174,
   "metadata": {
    "collapsed": false
   },
   "outputs": [
    {
     "data": {
      "text/plain": [
       "0.8583298588752083"
      ]
     },
     "execution_count": 174,
     "metadata": {},
     "output_type": "execute_result"
    }
   ],
   "source": [
    "# dataset: basic\n",
    "feature_columns_1 = ['sqft_living', 'grade', 'sqft_above', 'sqft_living15', 'bathrooms', 'view', 'sqft_basement', 'lat', 'long', 'waterfront', 'yr_built', 'bedrooms', 'zipcode']\n",
    "score_xgb(dat, feature_columns_1)"
   ]
  },
  {
   "cell_type": "markdown",
   "metadata": {},
   "source": [
    "####  TODO: tune the model"
   ]
  },
  {
   "cell_type": "markdown",
   "metadata": {},
   "source": [
    "## Visualization\n",
    "\n",
    "Let's try to visualize the data in various ways"
   ]
  },
  {
   "cell_type": "code",
   "execution_count": 140,
   "metadata": {
    "collapsed": false
   },
   "outputs": [
    {
     "data": {
      "image/png": "[encoded data removed]",
      "text/plain": [
       "<Figure size 432x288 with 1 Axes>"
      ]
     },
     "metadata": {},
     "output_type": "display_data"
    }
   ],
   "source": [
    "# what is sqft_living15 vs. sqft_living ?\n",
    "\n",
    "plt.plot(dat.sqft_living, dat.sqft_living15, 'k.', alpha=0.01)\n",
    "plt.show()"
   ]
  },
  {
   "cell_type": "markdown",
   "metadata": {},
   "source": [
    "#### TODO: quantify date category effects\n",
    "it may be hard to see the effect of date information because if it is dwarfed by the other effects"
   ]
  },
  {
   "cell_type": "code",
   "execution_count": 36,
   "metadata": {
    "collapsed": false,
    "scrolled": true
   },
   "outputs": [
    {
     "data": {
      "image/png": "[encoded data removed]",
      "text/plain": [
       "<Figure size 432x288 with 1 Axes>"
      ]
     },
     "metadata": {},
     "output_type": "display_data"
    }
   ],
   "source": [
    "fig = plt.figure()\n",
    "ax = fig.add_axes([0.1, 0.1, 0.8, 0.8])\n",
    "day_prices = []\n",
    "for i in range(7):\n",
    "    day_prices.append(dat_4[dat_4.day_of_week == i].price.values)\n",
    "ax.boxplot(day_prices, showfliers=False)\n",
    "ax.set_ylabel('price (dollars)')\n",
    "ax.set_xticklabels(['mon', 'tue', 'wed', 'thu', 'fri', 'sat', 'sun'])\n",
    "plt.show(fig)"
   ]
  },
  {
   "cell_type": "code",
   "execution_count": 37,
   "metadata": {
    "collapsed": false,
    "scrolled": true
   },
   "outputs": [
    {
     "data": {
      "image/png": "[encoded data removed]",
      "text/plain": [
       "<Figure size 432x288 with 1 Axes>"
      ]
     },
     "metadata": {},
     "output_type": "display_data"
    }
   ],
   "source": [
    "fig = plt.figure()\n",
    "ax = fig.add_axes([0.1, 0.1, 0.8, 0.8])\n",
    "day_prices = []\n",
    "for i in range(12):\n",
    "    day_prices.append(dat_4[dat_4.month_of_year == i].price.values)\n",
    "ax.boxplot(day_prices, showfliers=False)\n",
    "ax.set_ylabel('price (dollars)')\n",
    "# ax.set_xticklabels(['mon', 'tue', 'wed', 'thu', 'fri', 'sat', 'sun'])\n",
    "plt.show(fig)"
   ]
  },
  {
   "cell_type": "code",
   "execution_count": 169,
   "metadata": {
    "collapsed": false
   },
   "outputs": [
    {
     "data": {
      "image/png": "[encoded data removed]",
      "text/plain": [
       "<Figure size 576x576 with 1 Axes>"
      ]
     },
     "metadata": {},
     "output_type": "display_data"
    }
   ],
   "source": [
    "fig = plt.figure(figsize=(8, 8))\n",
    "ax = fig.add_axes([0.1, 0.1, 0.8, 0.8])\n",
    "ax.hexbin(dat['long'], dat['lat'], C=dat['price'], bins='log', gridsize=50)\n",
    "plt.show(fig)"
   ]
  },
  {
   "cell_type": "code",
   "execution_count": 181,
   "metadata": {
    "collapsed": false
   },
   "outputs": [
    {
     "data": {
      "text/plain": [
       "0.8217176348340105"
      ]
     },
     "execution_count": 181,
     "metadata": {},
     "output_type": "execute_result"
    }
   ],
   "source": [
    "# features found to be useful\n",
    "feature_columns_5 = ['sqft_living', 'grade', 'sqft_above', 'sqft_living15', 'bathrooms', 'view', 'sqft_basement', 'lat', 'long', 'waterfront', 'yr_built', 'bedrooms']\n",
    "\n",
    "# evaluate the regression on the transformed dataset\n",
    "score_xgb(dat, ['bathrooms', 'view','sqft_living', 'grade', 'lat', 'long', 'zipcode'])"
   ]
  },
  {
   "cell_type": "code",
   "execution_count": 185,
   "metadata": {
    "collapsed": false
   },
   "outputs": [
    {
     "ename": "ModuleNotFoundError",
     "evalue": "No module named 'mpl_toolkits.basemap'",
     "output_type": "error",
     "traceback": [
      "\u001b[0;31m---------------------------------------------------------------------------\u001b[0m",
      "\u001b[0;31mModuleNotFoundError\u001b[0m                       Traceback (most recent call last)",
      "\u001b[0;32m<ipython-input-185-5e6824321d57>\u001b[0m in \u001b[0;36m<module>\u001b[0;34m()\u001b[0m\n\u001b[0;32m----> 1\u001b[0;31m \u001b[0;32mfrom\u001b[0m \u001b[0mmpl_toolkits\u001b[0m\u001b[0;34m.\u001b[0m\u001b[0mbasemap\u001b[0m \u001b[0;32mimport\u001b[0m \u001b[0mBasemap\u001b[0m\u001b[0;34m\u001b[0m\u001b[0m\n\u001b[0m",
      "\u001b[0;31mModuleNotFoundError\u001b[0m: No module named 'mpl_toolkits.basemap'"
     ]
    }
   ],
   "source": [
    "from mpl_toolkits.basemap import Basemap"
   ]
  },
  {
   "cell_type": "code",
   "execution_count": null,
   "metadata": {
    "collapsed": true
   },
   "outputs": [],
   "source": []
  }
 ],
 "metadata": {
  "kernelspec": {
   "display_name": "Python [conda env:py3]",
   "language": "python",
   "name": "conda-env-py3-py"
  },
  "language_info": {
   "codemirror_mode": {
    "name": "ipython",
    "version": 3
   },
   "file_extension": ".py",
   "mimetype": "text/x-python",
   "name": "python",
   "nbconvert_exporter": "python",
   "pygments_lexer": "ipython3",
   "version": "3.6.2"
  }
 },
 "nbformat": 4,
 "nbformat_minor": 1
}
